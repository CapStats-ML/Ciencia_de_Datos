{
 "cells": [
  {
   "cell_type": "markdown",
   "id": "a6a17794-6f38-4e5a-84f6-00860e208e50",
   "metadata": {},
   "source": [
    "<center><h1 style=\"color: #CD5B45;\">1ra ENTREGA - APRENDIZAJE AUTOMÁTICO Y CIENCIA DE DATOS</h1></center>"
   ]
  },
  {
   "cell_type": "markdown",
   "id": "afc1b84d-73c1-49aa-8ea8-4127f69002d0",
   "metadata": {},
   "source": [
    "<p><strong style=\"color: #FF7256;\">Autor:</strong> </p>\n",
    "\n",
    "- Nombre: Cesar Augusto Prieto Sarmiento\n",
    "- Carrera: Estudiante de Estadística\n",
    "- Correo: ceprieto@unal.edu.co"
   ]
  },
  {
   "cell_type": "markdown",
   "id": "342e2556-4b1b-4246-8315-5f39e612d545",
   "metadata": {},
   "source": [
    "<center><h2 style=\"color: #FF7256;\"> ANTECEDENTES, DESCRIPCIÓN DE LA BASE Y PRIMER ANÁLISIS DE LAS VARIABLES</h2></center>"
   ]
  },
  {
   "cell_type": "markdown",
   "id": "4b952f58-3581-4af7-96b2-e9a04f5f7449",
   "metadata": {},
   "source": [
    "<h3 style=\"color: #FF7256;\">DESCRIPCIÓN DE LA BASE</h3>"
   ]
  },
  {
   "cell_type": "markdown",
   "id": "cf83c6d7-e152-4c42-95bf-e7992e71b65c",
   "metadata": {},
   "source": [
    "La base de datos fue tomada de el repositorio de Dataset's de Hugging Face <https://huggingface.co/datasets/imodels/diabetes-readmission> Esta a su vez tiene un link directo a la página de Machine Learning Repository el cual contiene la ficha tecnica completa de la base.\n",
    "\n",
    "Este dataset recopila información de diez años (1999-2008) de atención clínica en 130 hospitales y redes integradas de servicios de salud en los Estados Unidos. Contiene un total de **101,766 registros** correspondientes a pacientes diagnosticados con diabetes que tuvieron estancias hospitalarias de hasta 14 días. Cada fila representa un encuentro hospitalario y contiene información detallada sobre pruebas de laboratorio, medicamentos administrados y diversos aspectos del diagnóstico y tratamiento.\n",
    "\n",
    "### Características Principales\n",
    "- **Número de Registros**: 101,766.\n",
    "- **Número de Variables**: 47.\n",
    "- **Tipo de Variables**: Categóricas e Integer.\n",
    "- **Tareas Asociadas**: Clasificación y Clustering.\n",
    "- **Ámbito Temático**: Salud y Medicina.\n",
    "- **Instancias Representadas**: Registros de pacientes hospitalizados diagnosticados con diabetes.\n",
    " "
   ]
  },
  {
   "cell_type": "markdown",
   "id": "bd105c69-ebbc-4891-a60c-17101e1935cd",
   "metadata": {},
   "source": [
    "### Criterios de Inclusión\n",
    "Para formar parte de esta base de datos, cada registro debe cumplir con los siguientes criterios:\n",
    "1. **Encuentros hospitalarios**: El registro corresponde a una admisión hospitalaria.\n",
    "2. **Diagnóstico de diabetes**: Se incluye cualquier diagnóstico relacionado con diabetes en el sistema.\n",
    "3. **Duración de la estancia**: Entre 1 y 14 días.\n",
    "4. **Pruebas de laboratorio**: Se realizaron análisis clínicos durante la estancia.\n",
    "5. **Administración de medicamentos**: Incluye la administración de medicamentos durante el encuentro."
   ]
  },
  {
   "cell_type": "markdown",
   "id": "f8ec3610-333e-4727-8260-d17bbd42bd04",
   "metadata": {},
   "source": [
    "<h3 style=\"color: #FF7256;\">CONTEXTO</h3>"
   ]
  },
  {
   "cell_type": "markdown",
   "id": "dd51939e-92c3-4747-8aae-edb11a6bcc81",
   "metadata": {},
   "source": [
    "El manejo hospitalario de pacientes con diabetes es un desafío importante debido a las múltiples complicaciones asociadas con la enfermedad. Este dataset busca abordar una problemática específica: **la readmisión temprana dentro de los 30 días posteriores al alta hospitalaria**. \n",
    "\n",
    "La diabetes es una enfermedad crónica que requiere una atención continua y adecuada. A pesar de la evidencia sólida que respalda el impacto positivo de las intervenciones preventivas y terapéuticas, existe una brecha significativa entre las prácticas ideales y la atención real proporcionada en los hospitales. Este problema puede atribuirse, en parte, a una gestión inconsistente de la diabetes en los entornos hospitalarios, particularmente en el control glucémico.\n",
    "\n",
    "El impacto de una atención inadecuada va más allá de los resultados clínicos inmediatos. Los pacientes enfrentan un mayor riesgo de complicaciones, mientras que los hospitales deben absorber costos adicionales derivados de readmisiones evitables.\n"
   ]
  },
  {
   "cell_type": "markdown",
   "id": "9ae1e034-a64d-4e44-991f-2f2558ba80aa",
   "metadata": {},
   "source": [
    "<h3 style=\"color: #FF7256;\">ANTECEDENTES</h3>"
   ]
  },
  {
   "cell_type": "markdown",
   "id": "8e3c551d-8055-4870-96a3-4d75b4bf74e9",
   "metadata": {},
   "source": [
    "El análisis de esta base de datos se publicó en el artículo titulado *\"Impact of HbA1c Measurement on Hospital Readmission Rates: Analysis of 70,000 Clinical Database Patient Records\"*, escrito por Beata Strack y colaboradores, y publicado en la revista BioMed Research International en 2014.\n",
    "\n",
    "El objetivo principal del análisis fue investigar los factores asociados con la readmisión temprana de pacientes hospitalizados con diabetes, con un enfoque particular en la medición del HbA1c, un marcador clave para el control glucémico. Este análisis se basa en más de 50 variables que describen las características de los pacientes, los tratamientos realizados y los resultados hospitalarios.\n",
    "\n",
    "Algunos de los atributos más destacados del dataset incluyen:\n",
    "- **Datos demográficos**: Número de paciente, raza, género y edad.\n",
    "- **Datos clínicos**: Tipo de admisión, tiempo en el hospital, especialidad médica del médico tratante.\n",
    "- **Pruebas y tratamientos**: Número de análisis de laboratorio realizados, resultados de pruebas de HbA1c, medicamentos administrados, y tratamientos relacionados con la diabetes.\n",
    "- **Historial médico**: Número de visitas a consultas externas, hospitalizaciones y emergencias en el año anterior a la admisión actual.\n",
    "\n",
    "No se recomiendan divisiones específicas de datos, por lo que pueden emplearse estrategias estándar como la división en conjuntos de entrenamiento, validación y prueba según el modelo analítico."
   ]
  },
  {
   "cell_type": "markdown",
   "id": "7d7cd308-cf46-4098-b813-00ffaad0b15e",
   "metadata": {},
   "source": [
    "Este reporte busca proporcionar una visión integral del dataset, estableciendo las bases para explorar y modelar los factores determinantes de las readmisiones hospitalarias de pacientes con diabetes."
   ]
  },
  {
   "cell_type": "markdown",
   "id": "cc5f7ca8-a393-4bf4-ae59-8bda1d87b62d",
   "metadata": {},
   "source": [
    "<h2 style=\"color: #FF7256;\">ANALISIS UNIVARIADO DE LAS VARIABLES SELECCIONADAS</h2>"
   ]
  },
  {
   "cell_type": "code",
   "execution_count": 31,
   "id": "3b1f4bfb-6d85-4366-bf68-59c00b07e240",
   "metadata": {},
   "outputs": [],
   "source": [
    "## LIBRERIAS NECESARIAS ----\n",
    "library(readr)\n",
    "library(dplyr)\n",
    "library(tidyr)\n",
    "library(RColorBrewer)"
   ]
  },
  {
   "cell_type": "code",
   "execution_count": 2,
   "id": "4e8c8aeb-a7be-4bc6-8a0e-91f5a0d6b507",
   "metadata": {},
   "outputs": [
    {
     "name": "stderr",
     "output_type": "stream",
     "text": [
      "Parsed with column specification:\n",
      "cols(\n",
      "  .default = col_double()\n",
      ")\n",
      "See spec(...) for full column specifications.\n",
      "Parsed with column specification:\n",
      "cols(\n",
      "  .default = col_double()\n",
      ")\n",
      "See spec(...) for full column specifications.\n"
     ]
    }
   ],
   "source": [
    "setwd(\"~/REPOS GIT/Ciencia_de_Datos/Datos\")\n",
    "test <- read_csv(\"test.csv\")\n",
    "train <- read_csv(\"train.csv\")"
   ]
  },
  {
   "cell_type": "code",
   "execution_count": 3,
   "id": "c4b93d00-b650-4f65-b7cf-79c1293411e1",
   "metadata": {},
   "outputs": [],
   "source": [
    "data <- rbind(test, train)"
   ]
  },
  {
   "cell_type": "code",
   "execution_count": 6,
   "id": "9642c684-ac84-41c7-8dd7-ab459eb8a680",
   "metadata": {},
   "outputs": [
    {
     "name": "stdout",
     "output_type": "stream",
     "text": [
      " chr [1:151] \"time_in_hospital\" \"num_lab_procedures\" \"num_procedures\" ...\n"
     ]
    }
   ],
   "source": [
    "names <- names(data); str(names)"
   ]
  },
  {
   "cell_type": "markdown",
   "id": "39b4b507-44cf-45b5-b403-8a2b7ab3a1f9",
   "metadata": {},
   "source": [
    "### UN POCO DE LIMPIEZA PARA LAS VARIABLES DE USO"
   ]
  },
  {
   "cell_type": "code",
   "execution_count": 7,
   "id": "177f1c0e-df04-4bd6-bd81-73baa9ec8c38",
   "metadata": {},
   "outputs": [
    {
     "data": {
      "text/plain": [
       "\n",
       "AfricanAmerican           Asian       Caucasian        Hispanic           Other \n",
       "          19210             641           76099            2037            3776 "
      ]
     },
     "metadata": {},
     "output_type": "display_data"
    }
   ],
   "source": [
    "#Unificar variables de raza\n",
    "\n",
    "data <- data %>%\n",
    "  mutate(Raza = case_when(\n",
    "    `race:AfricanAmerican` == 1 ~ \"AfricanAmerican\",\n",
    "    `race:Asian` == 1 ~ \"Asian\",\n",
    "    `race:Caucasian` == 1 ~ \"Caucasian\",\n",
    "    `race:Hispanic` == 1 ~ \"Hispanic\",\n",
    "    `race:Other` == 1 ~ \"Other\",\n",
    "    TRUE ~ NA_character_  # Valor NA en caso de que ninguna de las indicadoras sea 1\n",
    "  ))\n",
    "\n",
    "data <- data %>%\n",
    "  select(-`race:AfricanAmerican`, -`race:Asian`, -`race:Caucasian`,\n",
    "         -`race:Hispanic`, -`race:Other`)\n",
    "\n",
    "table(data$Raza)"
   ]
  },
  {
   "cell_type": "code",
   "execution_count": 8,
   "id": "f1331f2c-db56-4b85-8914-c67c0d97a804",
   "metadata": {},
   "outputs": [
    {
     "data": {
      "text/plain": [
       "\n",
       "Hombre  Mujer \n",
       " 47055  54708 "
      ]
     },
     "metadata": {},
     "output_type": "display_data"
    }
   ],
   "source": [
    "#Unificar variables de género\n",
    "\n",
    "data <- data %>%\n",
    "  mutate(Genero = case_when(\n",
    "    `gender:Female` == 1 ~ \"Mujer\",\n",
    "    `gender:Male` == 1 ~ \"Hombre\",\n",
    "    TRUE ~ NA_character_  # Valor NA en caso de que ninguna de las indicadoras sea 1\n",
    "  ))\n",
    "\n",
    "data <- data %>%\n",
    "  select(-`gender:Female`, -`gender:Male`)\n",
    "\n",
    "table(data$Genero)"
   ]
  },
  {
   "cell_type": "code",
   "execution_count": 9,
   "id": "2efd7aaa-77f0-4cdc-9c4d-ff1d1f60f305",
   "metadata": {},
   "outputs": [
    {
     "data": {
      "text/plain": [
       "\n",
       " [0-10) [10-20) [20-50) [50-70)     70+ \n",
       "    161     691   15117   39738   46056 "
      ]
     },
     "metadata": {},
     "output_type": "display_data"
    }
   ],
   "source": [
    "# Uniformizar variables de edad\n",
    "\n",
    "data <- data %>%\n",
    "  mutate(Edad = case_when(\n",
    "    `age:70+` == 1 ~ \"70+\",\n",
    "    `age:[0-10)` == 1 ~ \"[0-10)\",\n",
    "    `age:[10-20)` == 1 ~ \"[10-20)\",\n",
    "    `age:[20-50)` == 1 ~ \"[20-50)\",\n",
    "    `age:[50-70)` == 1 ~ \"[50-70)\",\n",
    "    TRUE ~ NA_character_  # Valor NA en caso de que ninguna de las indicadoras sea 1\n",
    "  ))\n",
    "\n",
    "data <- data %>%\n",
    "  select(-`age:70+`, -`age:[0-10)`, -`age:[10-20)`, -`age:[20-50)`, -`age:[50-70)`)\n",
    "\n",
    "table(data$Edad)"
   ]
  },
  {
   "cell_type": "code",
   "execution_count": 10,
   "id": "0af80a51-900c-4c09-9694-953397196e40",
   "metadata": {},
   "outputs": [
    {
     "data": {
      "text/plain": [
       "\n",
       "  Electiva Emergencia \n",
       "     18868      72468 "
      ]
     },
     "metadata": {},
     "output_type": "display_data"
    }
   ],
   "source": [
    "# Uniformizar variables de tipo de admisión\n",
    "\n",
    "data <- data %>%\n",
    "  mutate(TipoAdmision = case_when(\n",
    "    `admission_type_id:Elective` == 1 ~ \"Electiva\",\n",
    "    `admission_type_id:Emergency` == 1 ~ \"Emergencia\",\n",
    "    TRUE ~ NA_character_  # Valor NA en caso de que ninguna de las indicadoras sea 1\n",
    "  ))\n",
    "\n",
    "data <- data %>%\n",
    "  select(-`admission_type_id:Elective`, -`admission_type_id:Emergency`)\n",
    "\n",
    "table(data$TipoAdmision)"
   ]
  },
  {
   "cell_type": "code",
   "execution_count": 11,
   "id": "bb8065ba-7683-48b3-bd71-46a207ede289",
   "metadata": {},
   "outputs": [
    {
     "data": {
      "text/plain": [
       "\n",
       "Dado de alta a casa                Otro \n",
       "              73649               23434 "
      ]
     },
     "metadata": {},
     "output_type": "display_data"
    }
   ],
   "source": [
    "# Uniformizar variables de destino de alta\n",
    "\n",
    "data <- data %>%\n",
    "  mutate(DestinoAlta = case_when(\n",
    "    `discharge_disposition_id:Discharged to Home` == 1 ~ \"Dado de alta a casa\",\n",
    "    `discharge_disposition_id:Other` == 1 ~ \"Otro\",\n",
    "    TRUE ~ NA_character_  # Valor NA en caso de que ninguna de las indicadoras sea 1\n",
    "  ))\n",
    "\n",
    "data <- data %>%\n",
    "  select(-`discharge_disposition_id:Discharged to Home`, -`discharge_disposition_id:Other`)\n",
    "\n",
    "table(data$DestinoAlta)"
   ]
  },
  {
   "cell_type": "code",
   "execution_count": 12,
   "id": "dc1cf88f-3452-47a6-8d77-5c8355aa6572",
   "metadata": {},
   "outputs": [
    {
     "data": {
      "text/plain": [
       "\n",
       "Emergencia       Otro \n",
       "     57492        146 "
      ]
     },
     "metadata": {},
     "output_type": "display_data"
    }
   ],
   "source": [
    "# Uniformizar variables de fuente de admisión\n",
    "\n",
    "data <- data %>%\n",
    "  mutate(FuenteAdmision = case_when(\n",
    "    `admission_source_id:Emergency` == 1 ~ \"Emergencia\",\n",
    "    `admission_source_id:Other` == 1 ~ \"Otro\",\n",
    "    TRUE ~ NA_character_  # Valor NA en caso de que ninguna de las indicadoras sea 1\n",
    "  ))\n",
    "\n",
    "data <- data %>%\n",
    "  select(-`admission_source_id:Emergency`, -`admission_source_id:Other`)\n",
    "\n",
    "table(data$FuenteAdmision)"
   ]
  },
  {
   "cell_type": "code",
   "execution_count": 13,
   "id": "362c8070-c3f2-477e-977e-7536f528d0f9",
   "metadata": {},
   "outputs": [
    {
     "data": {
      "text/plain": [
       "\n",
       "      Cardiología Emergencia/Trauma \n",
       "             5351              7565 "
      ]
     },
     "metadata": {},
     "output_type": "display_data"
    }
   ],
   "source": [
    "# Uniformizar variables de especialidad médica\n",
    "\n",
    "data <- data %>%\n",
    "  mutate(Especialidad = case_when(\n",
    "    `medical_specialty:Cardiology` == 1 ~ \"Cardiología\",\n",
    "    `medical_specialty:Emergency/Trauma` == 1 ~ \"Emergencia/Trauma\",\n",
    "    TRUE ~ NA_character_  # Valor NA en caso de que ninguna de las indicadoras sea 1\n",
    "  ))\n",
    "\n",
    "data <- data %>%\n",
    "  select(-`medical_specialty:Cardiology`, -`medical_specialty:Emergency/Trauma`)\n",
    "\n",
    "table(data$Especialidad)"
   ]
  },
  {
   "cell_type": "code",
   "execution_count": 14,
   "id": "cfdfae14-a1e2-4583-9ba9-f05b3bbb289e",
   "metadata": {},
   "outputs": [
    {
     "data": {
      "text/plain": [
       "\n",
       "Circulatorio     Diabetes    Digestivo \n",
       "       30436         8757         9475 "
      ]
     },
     "metadata": {},
     "output_type": "display_data"
    }
   ],
   "source": [
    "# Uniformizar variables de diagnóstico\n",
    "\n",
    "data <- data %>%\n",
    "  mutate(Diagnostico = case_when(\n",
    "    `diag_1:Circulatory` == 1 ~ \"Circulatorio\",\n",
    "    `diag_1:Diabetes` == 1 ~ \"Diabetes\",\n",
    "    `diag_1:Digestive` == 1 ~ \"Digestivo\",\n",
    "    TRUE ~ NA_character_  # Valor NA en caso de que ninguna de las indicadoras sea 1\n",
    "  ))\n",
    "\n",
    "data <- data %>%\n",
    "  select(-`diag_1:Circulatory`, -`diag_1:Diabetes`, -`diag_1:Digestive`)\n",
    "\n",
    "table(data$Diagnostico)"
   ]
  },
  {
   "cell_type": "code",
   "execution_count": 15,
   "id": "23ef39ea-2538-47bf-b811-d04e06e5e9af",
   "metadata": {},
   "outputs": [
    {
     "data": {
      "text/plain": [
       "\n",
       "     >7      >8 Ninguno  Normal \n",
       "   3812    8216   84745    4990 "
      ]
     },
     "metadata": {},
     "output_type": "display_data"
    }
   ],
   "source": [
    "# Uniformizar variables de resultado de A1C\n",
    "\n",
    "data <- data %>%\n",
    "  mutate(ResultadoA1C = case_when(\n",
    "    `A1Cresult:>7` == 1 ~ \">7\",\n",
    "    `A1Cresult:>8` == 1 ~ \">8\",\n",
    "    `A1Cresult:None` == 1 ~ \"Ninguno\",\n",
    "    `A1Cresult:Norm` == 1 ~ \"Normal\",\n",
    "    TRUE ~ NA_character_  # Valor NA en caso de que ninguna de las indicadoras sea 1\n",
    "  ))\n",
    "\n",
    "data <- data %>%\n",
    "  select(-`A1Cresult:>7`, -`A1Cresult:>8`, -`A1Cresult:None`, -`A1Cresult:Norm`)\n",
    "\n",
    "table(data$ResultadoA1C)"
   ]
  },
  {
   "cell_type": "code",
   "execution_count": 16,
   "id": "21b23739-5963-4c27-b460-2715fc068133",
   "metadata": {},
   "outputs": [
    {
     "data": {
      "text/plain": [
       "\n",
       "   >200    >300 Ninguno  Normal \n",
       "   1485    1264   96417    2597 "
      ]
     },
     "metadata": {},
     "output_type": "display_data"
    }
   ],
   "source": [
    "# Uniformizar variables de resultado de max_glu_serum\n",
    "\n",
    "data <- data %>%\n",
    "  mutate(ResultadoGlu = case_when(\n",
    "    `max_glu_serum:>200` == 1 ~ \">200\",\n",
    "    `max_glu_serum:>300` == 1 ~ \">300\",\n",
    "    `max_glu_serum:None` == 1 ~ \"Ninguno\",\n",
    "    `max_glu_serum:Norm` == 1 ~ \"Normal\",\n",
    "    TRUE ~ NA_character_  # Valor NA en caso de que ninguna de las indicadoras sea 1\n",
    "  ))\n",
    "\n",
    "data <- data %>%\n",
    "  select(-`max_glu_serum:>200`, -`max_glu_serum:>300`, -`max_glu_serum:None`,\n",
    "         -`max_glu_serum:Norm`)\n",
    "\n",
    "table(data$ResultadoGlu)"
   ]
  },
  {
   "cell_type": "code",
   "execution_count": 17,
   "id": "853030c0-da16-4cd3-af2c-11a327cbb28d",
   "metadata": {},
   "outputs": [
    {
     "data": {
      "text/plain": [
       "\n",
       " Bajada Estable      No  Subida \n",
       "  12218   30849   47380   11316 "
      ]
     },
     "metadata": {},
     "output_type": "display_data"
    }
   ],
   "source": [
    "# Unificar variables de insulina\n",
    "\n",
    "data <- data %>%\n",
    "  mutate(Insulina = case_when(\n",
    "    `insulin:Down` == 1 ~ \"Bajada\",\n",
    "    `insulin:No` == 1 ~ \"No\",\n",
    "    `insulin:Steady` == 1 ~ \"Estable\",\n",
    "    `insulin:Up` == 1 ~ \"Subida\",\n",
    "    TRUE ~ NA_character_  # Valor NA en caso de que ninguna de las indicadoras sea 1\n",
    "  ))\n",
    "\n",
    "data <- data %>%\n",
    "  select(-`insulin:Down`, -`insulin:No`, -`insulin:Steady`, -`insulin:Up`)\n",
    "\n",
    "table(data$Insulina)"
   ]
  },
  {
   "cell_type": "code",
   "execution_count": 18,
   "id": "accd7f91-9d04-4e2f-a8ff-8f9e5d88cf91",
   "metadata": {},
   "outputs": [
    {
     "data": {
      "text/plain": [
       "\n",
       " Bajada Estable      No  Subida \n",
       "    564    9274   91113     812 "
      ]
     },
     "metadata": {},
     "output_type": "display_data"
    }
   ],
   "source": [
    "# Unificar variable de gliburida\n",
    "\n",
    "data <- data %>%\n",
    "  mutate(Gliburida = case_when(\n",
    "    `glyburide:Down` == 1 ~ \"Bajada\",\n",
    "    `glyburide:No` == 1 ~ \"No\",\n",
    "    `glyburide:Steady` == 1 ~ \"Estable\",\n",
    "    `glyburide:Up` == 1 ~ \"Subida\",\n",
    "    TRUE ~ NA_character_  # Valor NA en caso de que ninguna de las indicadoras sea 1\n",
    "  ))\n",
    "\n",
    "data <- data %>%\n",
    "  select(-`glyburide:Down`, -`glyburide:No`, -`glyburide:Steady`, -`glyburide:Up`)\n",
    "\n",
    "table(data$Gliburida)"
   ]
  },
  {
   "cell_type": "markdown",
   "id": "c465cda8-633a-4ab9-8ec8-a7912544e0f1",
   "metadata": {},
   "source": [
    "### ELECCION DE VARIABLES"
   ]
  },
  {
   "cell_type": "code",
   "execution_count": 19,
   "id": "1e536d76-2d9b-42bf-9513-fd023a95d05b",
   "metadata": {},
   "outputs": [],
   "source": [
    "# SELECCION DE VARIABLES CATEGORICAS ----\n",
    "\n",
    "categóricas <- c('Raza', 'Genero', 'Edad', 'TipoAdmision', 'DestinoAlta',\n",
    "                 'ResultadoA1C', 'ResultadoGlu',\"Gliburida\" , \"Insulina\", \"readmitted\")\n",
    "\n",
    "# Seleccionar solo las variables categóricas\n",
    "data_categóricas <- data[, categóricas]"
   ]
  },
  {
   "cell_type": "code",
   "execution_count": 68,
   "id": "39b9073e-4622-4473-9a30-2c6d6d522c57",
   "metadata": {},
   "outputs": [],
   "source": [
    "# SELECCION DE VARIABLES NUMERICAS ----\n",
    "\n",
    "numéricas <- c(\n",
    "  \"time_in_hospital\", \"num_lab_procedures\", \"num_procedures\", \"num_medications\",\n",
    "  \"number_outpatient\", \"number_emergency\", \"number_inpatient\",\n",
    "  \"number_diagnoses\", \"change\", \"diabetesMed\"\n",
    ")\n",
    "\n",
    "# Seleccionar solo las variables numéricas\n",
    "data_numéricas <- data[, numéricas]"
   ]
  },
  {
   "cell_type": "code",
   "execution_count": 21,
   "id": "515886b9-317e-4f52-a33f-be1d1602fe55",
   "metadata": {},
   "outputs": [],
   "source": [
    "# Unir ambos datasets\n",
    "\n",
    "data1 <- cbind(data_categóricas, data_numéricas)"
   ]
  },
  {
   "cell_type": "code",
   "execution_count": 22,
   "id": "943c9a1f-7c02-4afe-b491-a028dcca66a7",
   "metadata": {},
   "outputs": [
    {
     "data": {
      "text/html": [
       "<dl class=dl-horizontal>\n",
       "\t<dt>Raza</dt>\n",
       "\t\t<dd>0</dd>\n",
       "\t<dt>Genero</dt>\n",
       "\t\t<dd>0</dd>\n",
       "\t<dt>Edad</dt>\n",
       "\t\t<dd>0</dd>\n",
       "\t<dt>TipoAdmision</dt>\n",
       "\t\t<dd>10427</dd>\n",
       "\t<dt>DestinoAlta</dt>\n",
       "\t\t<dd>4680</dd>\n",
       "\t<dt>ResultadoA1C</dt>\n",
       "\t\t<dd>0</dd>\n",
       "\t<dt>ResultadoGlu</dt>\n",
       "\t\t<dd>0</dd>\n",
       "\t<dt>Gliburida</dt>\n",
       "\t\t<dd>0</dd>\n",
       "\t<dt>Insulina</dt>\n",
       "\t\t<dd>0</dd>\n",
       "\t<dt>readmitted</dt>\n",
       "\t\t<dd>0</dd>\n",
       "\t<dt>time_in_hospital</dt>\n",
       "\t\t<dd>0</dd>\n",
       "\t<dt>num_lab_procedures</dt>\n",
       "\t\t<dd>0</dd>\n",
       "\t<dt>num_procedures</dt>\n",
       "\t\t<dd>0</dd>\n",
       "\t<dt>num_medications</dt>\n",
       "\t\t<dd>0</dd>\n",
       "\t<dt>number_outpatient</dt>\n",
       "\t\t<dd>0</dd>\n",
       "\t<dt>number_emergency</dt>\n",
       "\t\t<dd>0</dd>\n",
       "\t<dt>number_inpatient</dt>\n",
       "\t\t<dd>0</dd>\n",
       "\t<dt>number_diagnoses</dt>\n",
       "\t\t<dd>0</dd>\n",
       "\t<dt>change</dt>\n",
       "\t\t<dd>0</dd>\n",
       "\t<dt>diabetesMed</dt>\n",
       "\t\t<dd>0</dd>\n",
       "</dl>\n"
      ],
      "text/latex": [
       "\\begin{description*}\n",
       "\\item[Raza] 0\n",
       "\\item[Genero] 0\n",
       "\\item[Edad] 0\n",
       "\\item[TipoAdmision] 10427\n",
       "\\item[DestinoAlta] 4680\n",
       "\\item[ResultadoA1C] 0\n",
       "\\item[ResultadoGlu] 0\n",
       "\\item[Gliburida] 0\n",
       "\\item[Insulina] 0\n",
       "\\item[readmitted] 0\n",
       "\\item[time\\textbackslash{}\\_in\\textbackslash{}\\_hospital] 0\n",
       "\\item[num\\textbackslash{}\\_lab\\textbackslash{}\\_procedures] 0\n",
       "\\item[num\\textbackslash{}\\_procedures] 0\n",
       "\\item[num\\textbackslash{}\\_medications] 0\n",
       "\\item[number\\textbackslash{}\\_outpatient] 0\n",
       "\\item[number\\textbackslash{}\\_emergency] 0\n",
       "\\item[number\\textbackslash{}\\_inpatient] 0\n",
       "\\item[number\\textbackslash{}\\_diagnoses] 0\n",
       "\\item[change] 0\n",
       "\\item[diabetesMed] 0\n",
       "\\end{description*}\n"
      ],
      "text/markdown": [
       "Raza\n",
       ":   0Genero\n",
       ":   0Edad\n",
       ":   0TipoAdmision\n",
       ":   10427DestinoAlta\n",
       ":   4680ResultadoA1C\n",
       ":   0ResultadoGlu\n",
       ":   0Gliburida\n",
       ":   0Insulina\n",
       ":   0readmitted\n",
       ":   0time_in_hospital\n",
       ":   0num_lab_procedures\n",
       ":   0num_procedures\n",
       ":   0num_medications\n",
       ":   0number_outpatient\n",
       ":   0number_emergency\n",
       ":   0number_inpatient\n",
       ":   0number_diagnoses\n",
       ":   0change\n",
       ":   0diabetesMed\n",
       ":   0\n",
       "\n"
      ],
      "text/plain": [
       "              Raza             Genero               Edad       TipoAdmision \n",
       "                 0                  0                  0              10427 \n",
       "       DestinoAlta       ResultadoA1C       ResultadoGlu          Gliburida \n",
       "              4680                  0                  0                  0 \n",
       "          Insulina         readmitted   time_in_hospital num_lab_procedures \n",
       "                 0                  0                  0                  0 \n",
       "    num_procedures    num_medications  number_outpatient   number_emergency \n",
       "                 0                  0                  0                  0 \n",
       "  number_inpatient   number_diagnoses             change        diabetesMed \n",
       "                 0                  0                  0                  0 "
      ]
     },
     "metadata": {},
     "output_type": "display_data"
    }
   ],
   "source": [
    "# CONTAR VALORES NULOS ----\n",
    "\n",
    "sapply(data1, function(x) sum(is.na(x)))"
   ]
  },
  {
   "cell_type": "code",
   "execution_count": 23,
   "id": "d9c3f6b5-183a-4e63-aeb6-4beb17640f71",
   "metadata": {},
   "outputs": [],
   "source": [
    "# ELIMINAR FILAS CON VALORES NULOS ----\n",
    "\n",
    "data1 <- data1 %>%\n",
    "  drop_na()"
   ]
  },
  {
   "cell_type": "markdown",
   "id": "4c17d7af-bdfa-4c9f-a6fc-6c8b5c8a4cfe",
   "metadata": {},
   "source": [
    "<h3 style=\"color: #FF7256;\">VARIABLES CATEGORICAS</h3>"
   ]
  },
  {
   "cell_type": "code",
   "execution_count": 24,
   "id": "a2c757ab-5d4e-4174-af2d-d114cb7e78ce",
   "metadata": {},
   "outputs": [
    {
     "name": "stdout",
     "output_type": "stream",
     "text": [
      "\n",
      "AfricanAmerican           Asian       Caucasian        Hispanic           Other \n",
      "          17125             560           65006            1536            3408 \n",
      "\n",
      "Hombre  Mujer \n",
      " 40424  47211 \n",
      "\n",
      " [0-10) [10-20) [20-50) [50-70)     70+ \n",
      "    146     639   13027   34386   39437 \n",
      "\n",
      "  Electiva Emergencia \n",
      "     17889      69746 \n",
      "\n",
      "Dado de alta a casa                Otro \n",
      "              66991               20644 \n",
      "\n",
      "     >7      >8 Ninguno  Normal \n",
      "   3315    6973   72811    4536 \n",
      "\n",
      "   >200    >300 Ninguno  Normal \n",
      "    196     379   86543     517 \n",
      "\n",
      " Bajada Estable      No  Subida \n",
      "    438    7595   78945     657 \n",
      "\n",
      " Bajada Estable      No  Subida \n",
      "  10931   27507   39426    9771 \n",
      "\n",
      "    0     1 \n",
      "47367 40268 \n"
     ]
    }
   ],
   "source": [
    "# TABLAS\n",
    "\n",
    "for (i in categóricas) {\n",
    "  print(table(data1[[i]]))\n",
    "}"
   ]
  },
  {
   "cell_type": "markdown",
   "id": "3736ea27-3fcb-4f71-b6aa-94cab29221f0",
   "metadata": {},
   "source": [
    "### GRAFICOS DE BARRAS"
   ]
  },
  {
   "cell_type": "code",
   "execution_count": 65,
   "id": "b9c3b9df-789f-424c-a767-5b207dfb7b24",
   "metadata": {},
   "outputs": [],
   "source": [
    "# Lista de títulos personalizados, uno para cada variable categórica\n",
    "titulos <- c(\"RAZA\", \"GENERO\", \"EDAD\", \"TIPO DE ADMISION\", \"DESTINO DESPUES DEL ALTA\",\n",
    "             \"RESULTADO DE A1C\", \"RESULTADO DE GLUCOSA\", \"GLIBURIDA\", \"INSULINA\", \"READMITIDO\")\n",
    "\n",
    "colores <- c(brewer.pal(9,\"Set1\")[1:9],\n",
    "             brewer.pal(8,\"Set2\")[1:7],\n",
    "             brewer.pal(8,\"Set2\")[1:7],\n",
    "             brewer.pal(12,\"Set3\")[1:3])"
   ]
  },
  {
   "cell_type": "code",
   "execution_count": 53,
   "id": "6c7e7662-3e2f-48b4-9aad-9c93dc5aa771",
   "metadata": {},
   "outputs": [
    {
     "data": {
      "image/png": "[encoded data removed]",
      "text/plain": [
       "plot without title"
      ]
     },
     "metadata": {},
     "output_type": "display_data"
    }
   ],
   "source": [
    "#par(mfrow = c(5, 2), mar = c(3, 3, 3, 2), oma = c(1, 1, 1, 1), bg = \"white\")\n",
    "\n",
    "options(repr.plot.width=10, repr.plot.height= 6)\n",
    "\n",
    "valores <- table(data1[[categóricas[1]]])\n",
    "  barplot(valores, las = 1, cex.names = 0.7, family = \"sans\", font.lab = 2,\n",
    "          cex.lab = 0.8, font = 3, cex.axis = 0.7, col.main = 'black', col = colores, border = colores,\n",
    "          xlab = titulos[1], ylab = \"Frecuencia\")\n",
    "  \n",
    "  # Título principal con mtext para ajustar su posición\n",
    "  mtext(paste(\"GRAFICO DE BARRAS PARA LA VARIABLE\", titulos[1]), side = 3, line = 2, cex = 0.9, font = 4)\n",
    "  # Añade el subtítulo debajo de cada gráfico\n",
    "  mtext(\"PACIENTES DIAGNOSTICADOS CON DIABETES\", side = 3, line = 1, cex = 0.9, col = \"grey25\", font = 2)"
   ]
  },
  {
   "cell_type": "code",
   "execution_count": 56,
   "id": "abe1942b-6cc7-4dbb-9cfc-3c51199143cc",
   "metadata": {},
   "outputs": [
    {
     "data": {
      "image/png": "[encoded data removed]",
      "text/plain": [
       "plot without title"
      ]
     },
     "metadata": {},
     "output_type": "display_data"
    }
   ],
   "source": [
    "options(repr.plot.width=10, repr.plot.height= 6)\n",
    "\n",
    "valores <- table(data1[[categóricas[2]]])\n",
    "  barplot(valores, las = 1, cex.names = 0.7, family = \"sans\", font.lab = 2,\n",
    "          cex.lab = 0.8, font = 3, cex.axis = 0.7, col.main = 'black', col = colores, border = colores,\n",
    "          xlab = titulos[2], ylab = \"Frecuencia\")\n",
    "  \n",
    "  # Título principal con mtext para ajustar su posición\n",
    "  mtext(paste(\"GRAFICO DE BARRAS PARA LA VARIABLE\", titulos[2]), side = 3, line = 2, cex = 0.9, font = 2)\n",
    "  # Añade el subtítulo debajo de cada gráfico\n",
    "  mtext(\"PACIENTES DIAGNOSTICADOS CON DIABETES\", side = 3, line = 1, cex = 0.9, col = \"grey40\", font = 2)"
   ]
  },
  {
   "cell_type": "code",
   "execution_count": 57,
   "id": "7d2a8e30-d9ef-49dc-b3e3-4b36249d0e8f",
   "metadata": {},
   "outputs": [
    {
     "data": {
      "image/png": "[encoded data removed]",
      "text/plain": [
       "plot without title"
      ]
     },
     "metadata": {},
     "output_type": "display_data"
    }
   ],
   "source": [
    "options(repr.plot.width=10, repr.plot.height= 6)\n",
    "\n",
    "valores <- table(data1[[categóricas[3]]])\n",
    "  barplot(valores, las = 1, cex.names = 0.7, family = \"sans\", font.lab = 2,\n",
    "          cex.lab = 0.8, font = 3, cex.axis = 0.7, col.main = 'black', col = colores, border = colores,\n",
    "          xlab = titulos[3], ylab = \"Frecuencia\")\n",
    "  \n",
    "  # Título principal con mtext para ajustar su posición\n",
    "  mtext(paste(\"GRAFICO DE BARRAS PARA LA VARIABLE\", titulos[3]), side = 3, line = 2, cex = 0.9, font = 2)\n",
    "  # Añade el subtítulo debajo de cada gráfico\n",
    "  mtext(\"PACIENTES DIAGNOSTICADOS CON DIABETES\", side = 3, line = 1, cex = 0.9, col = \"grey40\", font = 2)"
   ]
  },
  {
   "cell_type": "code",
   "execution_count": 58,
   "id": "e9997d6a-7aac-462f-8822-e58bb0c527d9",
   "metadata": {},
   "outputs": [
    {
     "data": {
      "image/png": "[encoded data removed]",
      "text/plain": [
       "plot without title"
      ]
     },
     "metadata": {},
     "output_type": "display_data"
    }
   ],
   "source": [
    "options(repr.plot.width=10, repr.plot.height= 6)\n",
    "\n",
    "valores <- table(data1[[categóricas[4]]])\n",
    "  barplot(valores, las = 1, cex.names = 0.7, family = \"sans\", font.lab = 2,\n",
    "          cex.lab = 0.8, font = 3, cex.axis = 0.7, col.main = 'black', col = colores, border = colores,\n",
    "          xlab = titulos[4], ylab = \"Frecuencia\")\n",
    "  \n",
    "  # Título principal con mtext para ajustar su posición\n",
    "  mtext(paste(\"GRAFICO DE BARRAS PARA LA VARIABLE\", titulos[4]), side = 3, line = 2, cex = 0.9, font = 2)\n",
    "  # Añade el subtítulo debajo de cada gráfico\n",
    "  mtext(\"PACIENTES DIAGNOSTICADOS CON DIABETES\", side = 3, line = 1, cex = 0.9, col = \"grey40\", font = 2)"
   ]
  },
  {
   "cell_type": "code",
   "execution_count": 59,
   "id": "28472f7d-cb46-463a-995f-239d6b3ab701",
   "metadata": {},
   "outputs": [
    {
     "data": {
      "image/png": "[encoded data removed]",
      "text/plain": [
       "plot without title"
      ]
     },
     "metadata": {},
     "output_type": "display_data"
    }
   ],
   "source": [
    "options(repr.plot.width=10, repr.plot.height= 6)\n",
    "\n",
    "valores <- table(data1[[categóricas[5]]])\n",
    "  barplot(valores, las = 1, cex.names = 0.7, family = \"sans\", font.lab = 2,\n",
    "          cex.lab = 0.8, font = 3, cex.axis = 0.7, col.main = 'black', col = colores, border = colores,\n",
    "          xlab = titulos[5], ylab = \"Frecuencia\")\n",
    "  \n",
    "  # Título principal con mtext para ajustar su posición\n",
    "  mtext(paste(\"GRAFICO DE BARRAS PARA LA VARIABLE\", titulos[5]), side = 3, line = 2, cex = 0.9, font = 2)\n",
    "  # Añade el subtítulo debajo de cada gráfico\n",
    "  mtext(\"PACIENTES DIAGNOSTICADOS CON DIABETES\", side = 3, line = 1, cex = 0.9, col = \"grey40\", font = 2)"
   ]
  },
  {
   "cell_type": "code",
   "execution_count": 60,
   "id": "4a8b24f3-aa9d-48cd-a2ef-24a1628eb694",
   "metadata": {},
   "outputs": [
    {
     "data": {
      "image/png": "[encoded data removed]",
      "text/plain": [
       "plot without title"
      ]
     },
     "metadata": {},
     "output_type": "display_data"
    }
   ],
   "source": [
    "options(repr.plot.width=10, repr.plot.height= 6)\n",
    "\n",
    "valores <- table(data1[[categóricas[7]]])\n",
    "  barplot(valores, las = 1, cex.names = 0.7, family = \"sans\", font.lab = 2,\n",
    "          cex.lab = 0.8, font = 3, cex.axis = 0.7, col.main = 'black', col = colores, border = colores,\n",
    "          xlab = titulos[7], ylab = \"Frecuencia\")\n",
    "  \n",
    "  # Título principal con mtext para ajustar su posición\n",
    "  mtext(paste(\"GRAFICO DE BARRAS PARA LA VARIABLE\", titulos[7]), side = 3, line = 2, cex = 0.9, font = 2)\n",
    "  # Añade el subtítulo debajo de cada gráfico\n",
    "  mtext(\"PACIENTES DIAGNOSTICADOS CON DIABETES\", side = 3, line = 1, cex = 0.9, col = \"grey40\", font = 2)"
   ]
  },
  {
   "cell_type": "code",
   "execution_count": 61,
   "id": "3c478f21-c671-4106-951d-3ca91dbbf264",
   "metadata": {},
   "outputs": [
    {
     "data": {
      "image/png": "[encoded data removed]",
      "text/plain": [
       "plot without title"
      ]
     },
     "metadata": {},
     "output_type": "display_data"
    }
   ],
   "source": [
    "options(repr.plot.width=10, repr.plot.height= 6)\n",
    "\n",
    "valores <- table(data1[[categóricas[8]]])\n",
    "  barplot(valores, las = 1, cex.names = 0.7, family = \"sans\", font.lab = 2,\n",
    "          cex.lab = 0.8, font = 3, cex.axis = 0.7, col.main = 'black', col = colores, border = colores,\n",
    "          xlab = titulos[8], ylab = \"Frecuencia\")\n",
    "  \n",
    "  # Título principal con mtext para ajustar su posición\n",
    "  mtext(paste(\"GRAFICO DE BARRAS PARA LA VARIABLE\", titulos[8]), side = 3, line = 2, cex = 0.9, font = 2)\n",
    "  # Añade el subtítulo debajo de cada gráfico\n",
    "  mtext(\"PACIENTES DIAGNOSTICADOS CON DIABETES\", side = 3, line = 1, cex = 0.9, col = \"grey40\", font = 2)"
   ]
  },
  {
   "cell_type": "code",
   "execution_count": 62,
   "id": "3480aff2-8e85-4812-970c-c1b1a6b93a8f",
   "metadata": {},
   "outputs": [
    {
     "data": {
      "image/png": "[encoded data removed]",
      "text/plain": [
       "plot without title"
      ]
     },
     "metadata": {},
     "output_type": "display_data"
    }
   ],
   "source": [
    "options(repr.plot.width=10, repr.plot.height= 6)\n",
    "\n",
    "valores <- table(data1[[categóricas[9]]])\n",
    "  barplot(valores, las = 1, cex.names = 0.7, family = \"sans\", font.lab = 2,\n",
    "          cex.lab = 0.8, font = 3, cex.axis = 0.7, col.main = 'black', col = colores, border = colores,\n",
    "          xlab = titulos[9], ylab = \"Frecuencia\")\n",
    "  \n",
    "  # Título principal con mtext para ajustar su posición\n",
    "  mtext(paste(\"GRAFICO DE BARRAS PARA LA VARIABLE\", titulos[9]), side = 3, line = 2, cex = 0.9, font = 2)\n",
    "  # Añade el subtítulo debajo de cada gráfico\n",
    "  mtext(\"PACIENTES DIAGNOSTICADOS CON DIABETES\", side = 3, line = 1, cex = 0.9, col = \"grey40\", font = 2)"
   ]
  },
  {
   "cell_type": "code",
   "execution_count": 63,
   "id": "27905905-2a03-4629-85d7-77ae28c18d30",
   "metadata": {},
   "outputs": [
    {
     "data": {
      "image/png": "[encoded data removed]",
      "text/plain": [
       "plot without title"
      ]
     },
     "metadata": {},
     "output_type": "display_data"
    }
   ],
   "source": [
    "options(repr.plot.width=10, repr.plot.height= 6)\n",
    "\n",
    "valores <- table(data1[[categóricas[10]]])\n",
    "  barplot(valores, las = 1, cex.names = 0.7, family = \"sans\", font.lab = 2,\n",
    "          cex.lab = 0.8, font = 3, cex.axis = 0.7, col.main = 'black', col = colores, border = colores,\n",
    "          xlab = titulos[10], ylab = \"Frecuencia\")\n",
    "  \n",
    "  # Título principal con mtext para ajustar su posición\n",
    "  mtext(paste(\"GRAFICO DE BARRAS PARA LA VARIABLE\", titulos[10]), side = 3, line = 2, cex = 0.9, font = 2)\n",
    "  # Añade el subtítulo debajo de cada gráfico\n",
    "  mtext(\"PACIENTES DIAGNOSTICADOS CON DIABETES\", side = 3, line = 1, cex = 0.9, col = \"grey40\", font = 2)"
   ]
  },
  {
   "cell_type": "markdown",
   "id": "bacd81cb-2920-4e56-914a-813ad479d215",
   "metadata": {},
   "source": [
    "<h3 style=\"color: #FF7256;\">VARIABLES NUMERICAS</h3>"
   ]
  },
  {
   "cell_type": "code",
   "execution_count": null,
   "id": "868a827c-ab01-4281-8e2e-e3d6ab88745a",
   "metadata": {},
   "outputs": [],
   "source": [
    "data1[[numéricas[1]]]\n"
   ]
  },
  {
   "cell_type": "code",
   "execution_count": null,
   "id": "c63d7e59-07d8-4f1f-acc0-595f948ad524",
   "metadata": {},
   "outputs": [],
   "source": []
  },
  {
   "cell_type": "code",
   "execution_count": null,
   "id": "b18fa6c3-e6bb-4294-95d6-bf7cf1dfd6da",
   "metadata": {},
   "outputs": [],
   "source": []
  },
  {
   "cell_type": "code",
   "execution_count": null,
   "id": "d62a550d-20f7-4517-95e0-d726481f74e9",
   "metadata": {},
   "outputs": [],
   "source": []
  },
  {
   "cell_type": "code",
   "execution_count": null,
   "id": "e8fab96f-2a50-4bea-96a1-87c6781a9175",
   "metadata": {},
   "outputs": [],
   "source": []
  },
  {
   "cell_type": "code",
   "execution_count": null,
   "id": "ca4b3005-76d0-48b7-b173-0c141acd9e75",
   "metadata": {},
   "outputs": [],
   "source": []
  },
  {
   "cell_type": "code",
   "execution_count": null,
   "id": "2160073c-6ec8-4ff7-a1aa-daab5cb7eda3",
   "metadata": {},
   "outputs": [],
   "source": []
  },
  {
   "cell_type": "code",
   "execution_count": null,
   "id": "ae80dce6-d5bf-4013-9427-c910ef832394",
   "metadata": {},
   "outputs": [],
   "source": []
  },
  {
   "cell_type": "code",
   "execution_count": null,
   "id": "983b286e-0bbf-473f-8866-9ed25123faad",
   "metadata": {},
   "outputs": [],
   "source": []
  },
  {
   "cell_type": "code",
   "execution_count": null,
   "id": "089133fc-3b46-4ce4-a222-997fde8053e2",
   "metadata": {},
   "outputs": [],
   "source": []
  },
  {
   "cell_type": "code",
   "execution_count": null,
   "id": "e4a296eb-d08a-4980-ab82-986cb9eb241e",
   "metadata": {},
   "outputs": [],
   "source": []
  },
  {
   "cell_type": "code",
   "execution_count": null,
   "id": "fe018356-ccbc-45ee-af36-67ee3f101767",
   "metadata": {},
   "outputs": [],
   "source": []
  },
  {
   "cell_type": "code",
   "execution_count": null,
   "id": "cbfce42d-5e50-4f42-969a-e9041ae69f19",
   "metadata": {},
   "outputs": [],
   "source": []
  }
 ],
 "metadata": {
  "kernelspec": {
   "display_name": "R",
   "language": "R",
   "name": "ir"
  },
  "language_info": {
   "codemirror_mode": "r",
   "file_extension": ".r",
   "mimetype": "text/x-r-source",
   "name": "R",
   "pygments_lexer": "r",
   "version": "3.6.1"
  }
 },
 "nbformat": 4,
 "nbformat_minor": 5
}
