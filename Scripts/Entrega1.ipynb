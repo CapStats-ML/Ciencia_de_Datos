{
 "cells": [
  {
   "cell_type": "markdown",
   "id": "a6a17794-6f38-4e5a-84f6-00860e208e50",
   "metadata": {},
   "source": [
    "<center><h1 style=\"color: #CD5B45;\">1ra ENTREGA - APRENDIZAJE AUTOMÁTICO Y CIENCIA DE DATOS</h1></center>"
   ]
  },
  {
   "cell_type": "markdown",
   "id": "afc1b84d-73c1-49aa-8ea8-4127f69002d0",
   "metadata": {},
   "source": [
    "<p><strong style=\"color: #FF7256;\">Autor:</strong> </p>\n",
    "\n",
    "- Nombre: Cesar Augusto Prieto Sarmiento\n",
    "- Carrera: Estudiante de Estadística\n",
    "- Correo: ceprieto@unal.edu.co"
   ]
  },
  {
   "cell_type": "markdown",
   "id": "342e2556-4b1b-4246-8315-5f39e612d545",
   "metadata": {},
   "source": [
    "<center><h2 style=\"color: #FF7256;\"> ANTECEDENTES, DESCRIPCIÓN DE LA BASE Y PRIMER ANÁLISIS DE LAS VARIABLES</h2></center>"
   ]
  },
  {
   "cell_type": "markdown",
   "id": "4b952f58-3581-4af7-96b2-e9a04f5f7449",
   "metadata": {},
   "source": [
    "<h3 style=\"color: #FF7256;\">DESCRIPCIÓN DE LA BASE</h3>"
   ]
  },
  {
   "cell_type": "markdown",
   "id": "cf83c6d7-e152-4c42-95bf-e7992e71b65c",
   "metadata": {},
   "source": [
    "La base de datos fue tomada de el repositorio de Dataset's de Hugging Face <https://huggingface.co/datasets/imodels/diabetes-readmission> Esta a su vez tiene un link directo a la página de Machine Learning Repository el cual contiene la ficha tecnica completa de la base.\n",
    "\n",
    "Este dataset recopila información de diez años (1999-2008) de atención clínica en 130 hospitales y redes integradas de servicios de salud en los Estados Unidos. Contiene un total de **101,766 registros** correspondientes a pacientes diagnosticados con diabetes que tuvieron estancias hospitalarias de hasta 14 días. Cada fila representa un encuentro hospitalario y contiene información detallada sobre pruebas de laboratorio, medicamentos administrados y diversos aspectos del diagnóstico y tratamiento.\n",
    "\n",
    "### Características Principales\n",
    "- **Número de Registros**: 101,766.\n",
    "- **Número de Variables**: 47.\n",
    "- **Tipo de Variables**: Categóricas e Integer.\n",
    "- **Tareas Asociadas**: Clasificación y Clustering.\n",
    "- **Ámbito Temático**: Salud y Medicina.\n",
    "- **Instancias Representadas**: Registros de pacientes hospitalizados diagnosticados con diabetes.\n",
    " "
   ]
  },
  {
   "cell_type": "markdown",
   "id": "bd105c69-ebbc-4891-a60c-17101e1935cd",
   "metadata": {},
   "source": [
    "### Criterios de Inclusión\n",
    "Para formar parte de esta base de datos, cada registro debe cumplir con los siguientes criterios:\n",
    "1. **Encuentros hospitalarios**: El registro corresponde a una admisión hospitalaria.\n",
    "2. **Diagnóstico de diabetes**: Se incluye cualquier diagnóstico relacionado con diabetes en el sistema.\n",
    "3. **Duración de la estancia**: Entre 1 y 14 días.\n",
    "4. **Pruebas de laboratorio**: Se realizaron análisis clínicos durante la estancia.\n",
    "5. **Administración de medicamentos**: Incluye la administración de medicamentos durante el encuentro."
   ]
  },
  {
   "cell_type": "markdown",
   "id": "f8ec3610-333e-4727-8260-d17bbd42bd04",
   "metadata": {},
   "source": [
    "<h3 style=\"color: #FF7256;\">CONTEXTO</h3>"
   ]
  },
  {
   "cell_type": "markdown",
   "id": "dd51939e-92c3-4747-8aae-edb11a6bcc81",
   "metadata": {},
   "source": [
    "El manejo hospitalario de pacientes con diabetes es un desafío importante debido a las múltiples complicaciones asociadas con la enfermedad. Este dataset busca abordar una problemática específica: **la readmisión temprana dentro de los 30 días posteriores al alta hospitalaria**. \n",
    "\n",
    "La diabetes es una enfermedad crónica que requiere una atención continua y adecuada. A pesar de la evidencia sólida que respalda el impacto positivo de las intervenciones preventivas y terapéuticas, existe una brecha significativa entre las prácticas ideales y la atención real proporcionada en los hospitales. Este problema puede atribuirse, en parte, a una gestión inconsistente de la diabetes en los entornos hospitalarios, particularmente en el control glucémico.\n",
    "\n",
    "El impacto de una atención inadecuada va más allá de los resultados clínicos inmediatos. Los pacientes enfrentan un mayor riesgo de complicaciones, mientras que los hospitales deben absorber costos adicionales derivados de readmisiones evitables.\n"
   ]
  },
  {
   "cell_type": "markdown",
   "id": "9ae1e034-a64d-4e44-991f-2f2558ba80aa",
   "metadata": {},
   "source": [
    "<h3 style=\"color: #FF7256;\">ANTECEDENTES</h3>"
   ]
  },
  {
   "cell_type": "markdown",
   "id": "8e3c551d-8055-4870-96a3-4d75b4bf74e9",
   "metadata": {},
   "source": [
    "El análisis de esta base de datos se publicó en el artículo titulado *\"Impact of HbA1c Measurement on Hospital Readmission Rates: Analysis of 70,000 Clinical Database Patient Records\"*, escrito por Beata Strack y colaboradores, y publicado en la revista BioMed Research International en 2014.\n",
    "\n",
    "El objetivo principal del análisis fue investigar los factores asociados con la readmisión temprana de pacientes hospitalizados con diabetes, con un enfoque particular en la medición del HbA1c, un marcador clave para el control glucémico. Este análisis se basa en más de 50 variables que describen las características de los pacientes, los tratamientos realizados y los resultados hospitalarios.\n",
    "\n",
    "Algunos de los atributos más destacados del dataset incluyen:\n",
    "- **Datos demográficos**: Número de paciente, raza, género y edad.\n",
    "- **Datos clínicos**: Tipo de admisión, tiempo en el hospital, especialidad médica del médico tratante.\n",
    "- **Pruebas y tratamientos**: Número de análisis de laboratorio realizados, resultados de pruebas de HbA1c, medicamentos administrados, y tratamientos relacionados con la diabetes.\n",
    "- **Historial médico**: Número de visitas a consultas externas, hospitalizaciones y emergencias en el año anterior a la admisión actual.\n",
    "\n",
    "No se recomiendan divisiones específicas de datos, por lo que pueden emplearse estrategias estándar como la división en conjuntos de entrenamiento, validación y prueba según el modelo analítico."
   ]
  },
  {
   "cell_type": "markdown",
   "id": "7d7cd308-cf46-4098-b813-00ffaad0b15e",
   "metadata": {},
   "source": [
    "Este reporte busca proporcionar una visión integral del dataset, estableciendo las bases para explorar y modelar los factores determinantes de las readmisiones hospitalarias de pacientes con diabetes."
   ]
  },
  {
   "cell_type": "markdown",
   "id": "cc5f7ca8-a393-4bf4-ae59-8bda1d87b62d",
   "metadata": {},
   "source": [
    "<h2 style=\"color: #FF7256;\">ANALISIS UNIVARIADO DE LAS VARIABLES SELECCIONADAS</h2>"
   ]
  },
  {
   "cell_type": "markdown",
   "id": "4c17d7af-bdfa-4c9f-a6fc-6c8b5c8a4cfe",
   "metadata": {},
   "source": [
    "<h3 style=\"color: #FF7256;\">VARIABLES CATEGORICAS</h3>"
   ]
  },
  {
   "cell_type": "code",
   "execution_count": null,
   "id": "3b1f4bfb-6d85-4366-bf68-59c00b07e240",
   "metadata": {},
   "outputs": [],
   "source": []
  },
  {
   "cell_type": "code",
   "execution_count": null,
   "id": "abe1942b-6cc7-4dbb-9cfc-3c51199143cc",
   "metadata": {},
   "outputs": [],
   "source": []
  },
  {
   "cell_type": "code",
   "execution_count": null,
   "id": "7d2a8e30-d9ef-49dc-b3e3-4b36249d0e8f",
   "metadata": {},
   "outputs": [],
   "source": []
  },
  {
   "cell_type": "code",
   "execution_count": null,
   "id": "e9997d6a-7aac-462f-8822-e58bb0c527d9",
   "metadata": {},
   "outputs": [],
   "source": []
  },
  {
   "cell_type": "code",
   "execution_count": null,
   "id": "28472f7d-cb46-463a-995f-239d6b3ab701",
   "metadata": {},
   "outputs": [],
   "source": []
  },
  {
   "cell_type": "code",
   "execution_count": null,
   "id": "4a8b24f3-aa9d-48cd-a2ef-24a1628eb694",
   "metadata": {},
   "outputs": [],
   "source": []
  },
  {
   "cell_type": "code",
   "execution_count": null,
   "id": "3c478f21-c671-4106-951d-3ca91dbbf264",
   "metadata": {},
   "outputs": [],
   "source": []
  },
  {
   "cell_type": "code",
   "execution_count": null,
   "id": "3480aff2-8e85-4812-970c-c1b1a6b93a8f",
   "metadata": {},
   "outputs": [],
   "source": []
  },
  {
   "cell_type": "code",
   "execution_count": null,
   "id": "27905905-2a03-4629-85d7-77ae28c18d30",
   "metadata": {},
   "outputs": [],
   "source": []
  },
  {
   "cell_type": "code",
   "execution_count": null,
   "id": "1811453a-1be7-482d-bf33-b5c65fb2a5b4",
   "metadata": {},
   "outputs": [],
   "source": []
  },
  {
   "cell_type": "code",
   "execution_count": null,
   "id": "868a827c-ab01-4281-8e2e-e3d6ab88745a",
   "metadata": {},
   "outputs": [],
   "source": []
  },
  {
   "cell_type": "code",
   "execution_count": null,
   "id": "c63d7e59-07d8-4f1f-acc0-595f948ad524",
   "metadata": {},
   "outputs": [],
   "source": []
  },
  {
   "cell_type": "code",
   "execution_count": null,
   "id": "b18fa6c3-e6bb-4294-95d6-bf7cf1dfd6da",
   "metadata": {},
   "outputs": [],
   "source": []
  },
  {
   "cell_type": "code",
   "execution_count": null,
   "id": "d62a550d-20f7-4517-95e0-d726481f74e9",
   "metadata": {},
   "outputs": [],
   "source": []
  },
  {
   "cell_type": "code",
   "execution_count": null,
   "id": "e8fab96f-2a50-4bea-96a1-87c6781a9175",
   "metadata": {},
   "outputs": [],
   "source": []
  },
  {
   "cell_type": "code",
   "execution_count": null,
   "id": "ca4b3005-76d0-48b7-b173-0c141acd9e75",
   "metadata": {},
   "outputs": [],
   "source": []
  },
  {
   "cell_type": "code",
   "execution_count": null,
   "id": "2160073c-6ec8-4ff7-a1aa-daab5cb7eda3",
   "metadata": {},
   "outputs": [],
   "source": []
  },
  {
   "cell_type": "code",
   "execution_count": null,
   "id": "ae80dce6-d5bf-4013-9427-c910ef832394",
   "metadata": {},
   "outputs": [],
   "source": []
  },
  {
   "cell_type": "code",
   "execution_count": null,
   "id": "983b286e-0bbf-473f-8866-9ed25123faad",
   "metadata": {},
   "outputs": [],
   "source": []
  },
  {
   "cell_type": "code",
   "execution_count": null,
   "id": "089133fc-3b46-4ce4-a222-997fde8053e2",
   "metadata": {},
   "outputs": [],
   "source": []
  },
  {
   "cell_type": "code",
   "execution_count": null,
   "id": "e4a296eb-d08a-4980-ab82-986cb9eb241e",
   "metadata": {},
   "outputs": [],
   "source": []
  },
  {
   "cell_type": "code",
   "execution_count": null,
   "id": "fe018356-ccbc-45ee-af36-67ee3f101767",
   "metadata": {},
   "outputs": [],
   "source": []
  },
  {
   "cell_type": "code",
   "execution_count": null,
   "id": "cbfce42d-5e50-4f42-969a-e9041ae69f19",
   "metadata": {},
   "outputs": [],
   "source": []
  }
 ],
 "metadata": {
  "kernelspec": {
   "display_name": "R",
   "language": "R",
   "name": "ir"
  },
  "language_info": {
   "codemirror_mode": "r",
   "file_extension": ".r",
   "mimetype": "text/x-r-source",
   "name": "R",
   "pygments_lexer": "r",
   "version": "3.6.1"
  }
 },
 "nbformat": 4,
 "nbformat_minor": 5
}
